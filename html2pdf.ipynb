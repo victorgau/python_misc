{
  "nbformat": 4,
  "nbformat_minor": 0,
  "metadata": {
    "colab": {
      "name": "html2pdf.ipynb",
      "provenance": [],
      "authorship_tag": "ABX9TyOU4xy43SXinehxLMU39QKj",
      "include_colab_link": true
    },
    "kernelspec": {
      "name": "python3",
      "display_name": "Python 3"
    }
  },
  "cells": [
    {
      "cell_type": "markdown",
      "metadata": {
        "id": "view-in-github",
        "colab_type": "text"
      },
      "source": [
        "<a href=\"https://colab.research.google.com/github/victorgau/python_misc/blob/master/html2pdf.ipynb\" target=\"_parent\"><img src=\"https://colab.research.google.com/assets/colab-badge.svg\" alt=\"Open In Colab\"/></a>"
      ]
    },
    {
      "cell_type": "markdown",
      "metadata": {
        "id": "WxPgWPPM2xSg",
        "colab_type": "text"
      },
      "source": [
        "# 用 Python 將 HTML 轉換成 PDF\n",
        "\n",
        "參考連結：\n",
        "* https://github.com/JazzCore/python-pdfkit\n",
        "* https://wkhtmltopdf.org/\n",
        "* https://stackoverflow.com/questions/23359083/how-to-convert-webpage-into-pdf-by-using-python"
      ]
    },
    {
      "cell_type": "markdown",
      "metadata": {
        "id": "19Ce_rBsfymK",
        "colab_type": "text"
      },
      "source": [
        "## 安裝 wkhtmltopdf\n",
        "\n",
        "參考連結：\n",
        "* https://gist.github.com/Oxicode/062649ad798ffb8ce16c720d3202acf2\n",
        "* https://wkhtmltopdf.org/downloads.html"
      ]
    },
    {
      "cell_type": "code",
      "metadata": {
        "id": "_rBuHs4aENXv",
        "colab_type": "code",
        "colab": {}
      },
      "source": [
        "# colab 上面的安裝\n",
        "!apt update\n",
        "!wget https://github.com/wkhtmltopdf/wkhtmltopdf/releases/download/0.12.5/wkhtmltox_0.12.5-1.bionic_amd64.deb\n",
        "!dpkg -i wkhtmltox_0.12.5-1.bionic_amd64.deb\n",
        "!apt -f install"
      ],
      "execution_count": 0,
      "outputs": []
    },
    {
      "cell_type": "code",
      "metadata": {
        "id": "0AI96JT6EQaN",
        "colab_type": "code",
        "colab": {}
      },
      "source": [
        "!pip install pdfkit"
      ],
      "execution_count": 0,
      "outputs": []
    },
    {
      "cell_type": "code",
      "metadata": {
        "id": "z6nFwCj__ybH",
        "colab_type": "code",
        "colab": {}
      },
      "source": [
        "import pdfkit"
      ],
      "execution_count": 0,
      "outputs": []
    },
    {
      "cell_type": "code",
      "metadata": {
        "id": "eLRBILGq_4Hr",
        "colab_type": "code",
        "colab": {}
      },
      "source": [
        "pdfkit.from_url(\"https://victorgau.com\",\"test.pdf\")"
      ],
      "execution_count": 0,
      "outputs": []
    }
  ]
}